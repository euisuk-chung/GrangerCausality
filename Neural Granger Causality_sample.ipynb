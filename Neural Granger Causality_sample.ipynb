{
 "cells": [
  {
   "cell_type": "markdown",
   "id": "3ad46e75-102b-43e1-9098-8600f5b6a7a6",
   "metadata": {},
   "source": [
    "# Neural Granger Causality\n",
    "\n",
    "- REF: https://github.com/iancovert/Neural-GC/tree/master/models\n",
    "\n",
    "1. `Component-wise Multilayer Perceptron (cMLP)`와 `Component-wise Long Short-Term Memory (cLSTM)` 모델을 제안합니다.\n",
    "\n",
    "2. `Group Lasson Penalty(그룹 라쏘 페널티)`를 사용하여 그랜저 인과성을 선택합니다.\n",
    "\n",
    "3. 다양한 시뮬레이션 데이터셋에서 제안된 방법의 성능을 평가합니다."
   ]
  },
  {
   "cell_type": "markdown",
   "id": "f922f030-48f9-46f1-aa33-83dfe5020059",
   "metadata": {},
   "source": [
    "**1. cMLP 모델:**\n",
    "```python\n",
    "class cMLP(nn.Module):\n",
    "    def __init__(self, input_dim, hidden_dim, output_dim, num_lags):\n",
    "        super(cMLP, self).__init__()\n",
    "        self.hidden = nn.Linear(input_dim * num_lags, hidden_dim)\n",
    "        self.output = nn.Linear(hidden_dim, output_dim)\n",
    "        self.activation = nn.ReLU()\n",
    "\n",
    "    def forward(self, x):\n",
    "        x = self.activation(self.hidden(x))\n",
    "        return self.output(x)\n",
    "```\n",
    "이 코드는 cMLP 모델을 구현합니다. 각 출력 시계열마다 별도의 MLP를 사용하며, 입력은 여러 시차(lag)의 데이터를 포함합니다.\n",
    "\n",
    "**2. 그룹 라쏘 페널티:**\n",
    "```python\n",
    "def group_lasso_penalty(model, lambda_param):\n",
    "    penalty = 0\n",
    "    for name, param in model.named_parameters():\n",
    "        if 'weight' in name:\n",
    "            penalty += torch.norm(param, p=2)\n",
    "    return lambda_param * penalty\n",
    "```\n",
    "이 함수는 그룹 라쏘 페널티를 구현합니다. 모델의 가중치에 L2 norm 기반 페널티를 적용하여 그랜저 인과성 선택을 수행합니다.\n",
    "\n",
    "**3. 모델 학습:**\n",
    "```python\n",
    "for epoch in range(100):\n",
    "    optimizer.zero_grad()\n",
    "    outputs = model(X)\n",
    "    loss = criterion(outputs, y)\n",
    "    loss += group_lasso_penalty(model, lambda_param=0.01)\n",
    "    loss.backward()\n",
    "    optimizer.step()\n",
    "```"
   ]
  },
  {
   "cell_type": "code",
   "execution_count": null,
   "id": "d26f261c-ba4d-40ba-86c2-d0307f29f59d",
   "metadata": {},
   "outputs": [],
   "source": []
  },
  {
   "cell_type": "code",
   "execution_count": null,
   "id": "0c5c9a12-1fd3-4baa-960c-bb817e918bfc",
   "metadata": {},
   "outputs": [],
   "source": []
  },
  {
   "cell_type": "code",
   "execution_count": null,
   "id": "711087fd-a0d5-49ab-be6b-ecdb18996994",
   "metadata": {},
   "outputs": [],
   "source": []
  },
  {
   "cell_type": "code",
   "execution_count": null,
   "id": "5c64a0a5-a1ff-4099-94ef-10e4876da788",
   "metadata": {},
   "outputs": [],
   "source": []
  },
  {
   "cell_type": "code",
   "execution_count": null,
   "id": "b30635c7-b2a5-4a86-905f-54c8525666b8",
   "metadata": {},
   "outputs": [],
   "source": []
  }
 ],
 "metadata": {
  "kernelspec": {
   "display_name": "GC",
   "language": "python",
   "name": "grangercausality"
  },
  "language_info": {
   "codemirror_mode": {
    "name": "ipython",
    "version": 3
   },
   "file_extension": ".py",
   "mimetype": "text/x-python",
   "name": "python",
   "nbconvert_exporter": "python",
   "pygments_lexer": "ipython3",
   "version": "3.10.14"
  }
 },
 "nbformat": 4,
 "nbformat_minor": 5
}
